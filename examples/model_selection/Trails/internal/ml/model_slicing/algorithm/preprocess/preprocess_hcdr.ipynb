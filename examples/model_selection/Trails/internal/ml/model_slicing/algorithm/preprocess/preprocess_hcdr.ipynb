{
 "cells": [
  {
   "cell_type": "code",
   "execution_count": 1,
   "metadata": {},
   "outputs": [
    {
     "name": "stderr",
     "output_type": "stream",
     "text": [
      "/home/huangdan/anaconda3/lib/python3.9/site-packages/pandas/core/computation/expressions.py:21: UserWarning: Pandas requires version '2.8.4' or newer of 'numexpr' (version '2.8.1' currently installed).\n",
      "  from pandas.core.computation.check import NUMEXPR_INSTALLED\n",
      "/home/huangdan/anaconda3/lib/python3.9/site-packages/pandas/core/arrays/masked.py:60: UserWarning: Pandas requires version '1.3.6' or newer of 'bottleneck' (version '1.3.4' currently installed).\n",
      "  from pandas.core import (\n"
     ]
    },
    {
     "name": "stdout",
     "output_type": "stream",
     "text": [
      "(CVXPY) Feb 08 10:41:19 PM: Encountered unexpected exception importing solver GLOP:\n",
      "RuntimeError('Unrecognized new version of ortools (9.8.3296). Expected < 9.8.0. Please open a feature request on cvxpy to enable support for this version.')\n",
      "(CVXPY) Feb 08 10:41:19 PM: Encountered unexpected exception importing solver PDLP:\n",
      "RuntimeError('Unrecognized new version of ortools (9.8.3296). Expected < 9.8.0. Please open a feature request on cvxpy to enable support for this version.')\n"
     ]
    }
   ],
   "source": [
    "import os\n",
    "import pandas as pd\n",
    "import numpy as np\n",
    "from optbinning import OptimalBinning"
   ]
  },
  {
   "cell_type": "code",
   "execution_count": 2,
   "metadata": {},
   "outputs": [],
   "source": [
    "file_path = \"/hdd1/sams/hcdr/dataset\"\n",
    "with open(file_path, 'r') as f:\n",
    "    lines = f.readlines()"
   ]
  },
  {
   "cell_type": "code",
   "execution_count": 3,
   "metadata": {},
   "outputs": [
    {
     "name": "stdout",
     "output_type": "stream",
     "text": [
      "244280\n"
     ]
    }
   ],
   "source": [
    "flag = False\n",
    "rows = []\n",
    "cnt = 0\n",
    "sub = \"'Spouse, partner'\"\n",
    "replaced_sub = \"spouse_partner\"\n",
    "\n",
    "for idx, line in enumerate(lines):\n",
    "    if line.strip() == \"@DATA\":\n",
    "        flag = True\n",
    "        continue\n",
    "\n",
    "    if not flag:\n",
    "        continue\n",
    "    \n",
    "    line = line.replace(sub, replaced_sub)\n",
    "    cnt += 1\n",
    "    row = [ i  for i in line.strip().split(',')]\n",
    "    if len(row)!=70:\n",
    "        print(row)\n",
    "        break\n",
    "    rows.append(row)\n",
    "print(cnt)"
   ]
  },
  {
   "cell_type": "code",
   "execution_count": 4,
   "metadata": {},
   "outputs": [],
   "source": [
    "df = pd.DataFrame(rows)"
   ]
  },
  {
   "cell_type": "code",
   "execution_count": 5,
   "metadata": {},
   "outputs": [
    {
     "data": {
      "text/html": [
       "<div>\n",
       "<style scoped>\n",
       "    .dataframe tbody tr th:only-of-type {\n",
       "        vertical-align: middle;\n",
       "    }\n",
       "\n",
       "    .dataframe tbody tr th {\n",
       "        vertical-align: top;\n",
       "    }\n",
       "\n",
       "    .dataframe thead th {\n",
       "        text-align: right;\n",
       "    }\n",
       "</style>\n",
       "<table border=\"1\" class=\"dataframe\">\n",
       "  <thead>\n",
       "    <tr style=\"text-align: right;\">\n",
       "      <th></th>\n",
       "      <th>0</th>\n",
       "      <th>1</th>\n",
       "      <th>2</th>\n",
       "      <th>3</th>\n",
       "      <th>4</th>\n",
       "      <th>5</th>\n",
       "      <th>6</th>\n",
       "      <th>7</th>\n",
       "      <th>8</th>\n",
       "      <th>9</th>\n",
       "      <th>...</th>\n",
       "      <th>60</th>\n",
       "      <th>61</th>\n",
       "      <th>62</th>\n",
       "      <th>63</th>\n",
       "      <th>64</th>\n",
       "      <th>65</th>\n",
       "      <th>66</th>\n",
       "      <th>67</th>\n",
       "      <th>68</th>\n",
       "      <th>69</th>\n",
       "    </tr>\n",
       "  </thead>\n",
       "  <tbody>\n",
       "    <tr>\n",
       "      <th>0</th>\n",
       "      <td>0</td>\n",
       "      <td>135000.0</td>\n",
       "      <td>445500.0</td>\n",
       "      <td>20772.0</td>\n",
       "      <td>445500.0</td>\n",
       "      <td>0.026392</td>\n",
       "      <td>-10463</td>\n",
       "      <td>-235</td>\n",
       "      <td>-86.0</td>\n",
       "      <td>-3122</td>\n",
       "      <td>...</td>\n",
       "      <td>0</td>\n",
       "      <td>1</td>\n",
       "      <td>0.0</td>\n",
       "      <td>1</td>\n",
       "      <td>Y</td>\n",
       "      <td>'Commercial associate'</td>\n",
       "      <td>Married</td>\n",
       "      <td>0</td>\n",
       "      <td>0</td>\n",
       "      <td>0</td>\n",
       "    </tr>\n",
       "    <tr>\n",
       "      <th>1</th>\n",
       "      <td>0</td>\n",
       "      <td>225000.0</td>\n",
       "      <td>675000.0</td>\n",
       "      <td>28597.5</td>\n",
       "      <td>675000.0</td>\n",
       "      <td>0.028663</td>\n",
       "      <td>-14872</td>\n",
       "      <td>-2488</td>\n",
       "      <td>-4213.0</td>\n",
       "      <td>-4208</td>\n",
       "      <td>...</td>\n",
       "      <td>0</td>\n",
       "      <td>1</td>\n",
       "      <td>0.0</td>\n",
       "      <td>0</td>\n",
       "      <td>N</td>\n",
       "      <td>Working</td>\n",
       "      <td>'Single / not married'</td>\n",
       "      <td>0</td>\n",
       "      <td>0</td>\n",
       "      <td>0</td>\n",
       "    </tr>\n",
       "    <tr>\n",
       "      <th>2</th>\n",
       "      <td>1</td>\n",
       "      <td>76500.0</td>\n",
       "      <td>450000.0</td>\n",
       "      <td>22018.5</td>\n",
       "      <td>450000.0</td>\n",
       "      <td>0.0066709999999999</td>\n",
       "      <td>-15270</td>\n",
       "      <td>-223</td>\n",
       "      <td>-4754.0</td>\n",
       "      <td>-3529</td>\n",
       "      <td>...</td>\n",
       "      <td>0</td>\n",
       "      <td>1</td>\n",
       "      <td>0.0</td>\n",
       "      <td>0</td>\n",
       "      <td>N</td>\n",
       "      <td>Working</td>\n",
       "      <td>Separated</td>\n",
       "      <td>0</td>\n",
       "      <td>0</td>\n",
       "      <td>0</td>\n",
       "    </tr>\n",
       "    <tr>\n",
       "      <th>3</th>\n",
       "      <td>0</td>\n",
       "      <td>225000.0</td>\n",
       "      <td>1125000.0</td>\n",
       "      <td>36292.5</td>\n",
       "      <td>1125000.0</td>\n",
       "      <td>0.04622</td>\n",
       "      <td>-16645</td>\n",
       "      <td>-2541</td>\n",
       "      <td>-2429.0</td>\n",
       "      <td>-192</td>\n",
       "      <td>...</td>\n",
       "      <td>0</td>\n",
       "      <td>1</td>\n",
       "      <td>0.0</td>\n",
       "      <td>0</td>\n",
       "      <td>Y</td>\n",
       "      <td>'State servant'</td>\n",
       "      <td>Married</td>\n",
       "      <td>0</td>\n",
       "      <td>0</td>\n",
       "      <td>0</td>\n",
       "    </tr>\n",
       "    <tr>\n",
       "      <th>4</th>\n",
       "      <td>0</td>\n",
       "      <td>117000.0</td>\n",
       "      <td>161730.0</td>\n",
       "      <td>8901.0</td>\n",
       "      <td>135000.0</td>\n",
       "      <td>0.01885</td>\n",
       "      <td>-15720</td>\n",
       "      <td>-7454</td>\n",
       "      <td>-1198.0</td>\n",
       "      <td>-4322</td>\n",
       "      <td>...</td>\n",
       "      <td>0</td>\n",
       "      <td>1</td>\n",
       "      <td>0.0</td>\n",
       "      <td>0</td>\n",
       "      <td>N</td>\n",
       "      <td>Working</td>\n",
       "      <td>Married</td>\n",
       "      <td>0</td>\n",
       "      <td>0</td>\n",
       "      <td>0</td>\n",
       "    </tr>\n",
       "  </tbody>\n",
       "</table>\n",
       "<p>5 rows × 70 columns</p>\n",
       "</div>"
      ],
      "text/plain": [
       "  0         1          2        3          4                   5       6   \\\n",
       "0  0  135000.0   445500.0  20772.0   445500.0            0.026392  -10463   \n",
       "1  0  225000.0   675000.0  28597.5   675000.0            0.028663  -14872   \n",
       "2  1   76500.0   450000.0  22018.5   450000.0  0.0066709999999999  -15270   \n",
       "3  0  225000.0  1125000.0  36292.5  1125000.0             0.04622  -16645   \n",
       "4  0  117000.0   161730.0   8901.0   135000.0             0.01885  -15720   \n",
       "\n",
       "      7        8      9   ... 60 61   62 63 64                      65  \\\n",
       "0   -235    -86.0  -3122  ...  0  1  0.0  1  Y  'Commercial associate'   \n",
       "1  -2488  -4213.0  -4208  ...  0  1  0.0  0  N                 Working   \n",
       "2   -223  -4754.0  -3529  ...  0  1  0.0  0  N                 Working   \n",
       "3  -2541  -2429.0   -192  ...  0  1  0.0  0  Y         'State servant'   \n",
       "4  -7454  -1198.0  -4322  ...  0  1  0.0  0  N                 Working   \n",
       "\n",
       "                       66 67 68 69  \n",
       "0                 Married  0  0  0  \n",
       "1  'Single / not married'  0  0  0  \n",
       "2               Separated  0  0  0  \n",
       "3                 Married  0  0  0  \n",
       "4                 Married  0  0  0  \n",
       "\n",
       "[5 rows x 70 columns]"
      ]
     },
     "execution_count": 5,
     "metadata": {},
     "output_type": "execute_result"
    }
   ],
   "source": [
    "df.head()"
   ]
  },
  {
   "cell_type": "code",
   "execution_count": 6,
   "metadata": {},
   "outputs": [
    {
     "name": "stdout",
     "output_type": "stream",
     "text": [
      "#col: 70\n",
      "1:2022\n",
      "2:5137\n",
      "3:12964\n",
      "4:801\n",
      "5:81\n",
      "6:17362\n",
      "7:12263\n",
      "8:15369\n",
      "9:6148\n",
      "12:107787\n",
      "13:814\n",
      "14:33\n",
      "16:32\n",
      "18:3736\n"
     ]
    }
   ],
   "source": [
    "bin_cols = []\n",
    "print(f\"#col: {len(df.columns)}\")\n",
    "for col in df.columns:\n",
    "    if col > 21:\n",
    "        continue\n",
    "    n = len(df[col].unique())\n",
    "    if n > 24:\n",
    "        print(f\"{col}:{n}\")\n",
    "        bin_cols.append(col)"
   ]
  },
  {
   "cell_type": "code",
   "execution_count": 7,
   "metadata": {},
   "outputs": [],
   "source": [
    "# transfer these bin cols to float\n",
    "for col in bin_cols:\n",
    "    try:\n",
    "        df[col] = df[col].astype(float)\n",
    "    except:\n",
    "        print(col)"
   ]
  },
  {
   "cell_type": "code",
   "execution_count": 8,
   "metadata": {},
   "outputs": [],
   "source": [
    "df[69] = df[69].astype(int)"
   ]
  },
  {
   "cell_type": "code",
   "execution_count": 9,
   "metadata": {},
   "outputs": [],
   "source": [
    "Y = df[69]\n",
    "del df[69]\n",
    "# X = df[range(69)]\n",
    "X = df"
   ]
  },
  {
   "cell_type": "code",
   "execution_count": 10,
   "metadata": {},
   "outputs": [],
   "source": [
    "def optbinning_data(df:pd.DataFrame, column:int, y:np.array):\n",
    "    x = df[column].values\n",
    "\n",
    "    optb = OptimalBinning(name=\"23\", dtype=\"numerical\", solver=\"cp\",\n",
    "                      monotonic_trend=\"auto\", \n",
    "                      max_n_prebins=100,\n",
    "                      min_prebin_size=0.001, time_limit=200)\n",
    "    optb.fit(x,y)\n",
    "    res = optb.transform(x, metric=\"indices\")\n",
    "    bin_number = max(res)\n",
    "    status = optb.status\n",
    "    set_n = len(df[column].unique())\n",
    "    print(f\"bin column:{column}, set size {set_n}, bin status {status}, bin_number {bin_number}\")\n",
    "    return res"
   ]
  },
  {
   "cell_type": "code",
   "execution_count": 11,
   "metadata": {},
   "outputs": [
    {
     "name": "stdout",
     "output_type": "stream",
     "text": [
      "bin column:1, set size 2022, bin status FEASIBLE, bin_number 17\n",
      "bin column:2, set size 5137, bin status FEASIBLE, bin_number 16\n",
      "bin column:3, set size 12964, bin status OPTIMAL, bin_number 5\n",
      "bin column:4, set size 801, bin status FEASIBLE, bin_number 21\n",
      "bin column:5, set size 81, bin status OPTIMAL, bin_number 10\n",
      "bin column:6, set size 17362, bin status OPTIMAL, bin_number 13\n",
      "bin column:7, set size 12263, bin status FEASIBLE, bin_number 10\n",
      "bin column:8, set size 15369, bin status OPTIMAL, bin_number 15\n",
      "bin column:9, set size 6148, bin status FEASIBLE, bin_number 13\n",
      "bin column:12, set size 107787, bin status OPTIMAL, bin_number 23\n",
      "bin column:13, set size 814, bin status FEASIBLE, bin_number 31\n",
      "bin column:14, set size 33, bin status OPTIMAL, bin_number 8\n",
      "bin column:16, set size 32, bin status OPTIMAL, bin_number 9\n",
      "bin column:18, set size 3736, bin status FEASIBLE, bin_number 13\n"
     ]
    }
   ],
   "source": [
    "for col in bin_cols:\n",
    "    v = optbinning_data(X, col, Y.values)\n",
    "    X[col] = v "
   ]
  },
  {
   "cell_type": "code",
   "execution_count": 19,
   "metadata": {},
   "outputs": [
    {
     "name": "stdout",
     "output_type": "stream",
     "text": [
      "544\n"
     ]
    }
   ],
   "source": [
    "# tokenization\n",
    "col_to_value2token = {}\n",
    "cnt = 0\n",
    "for col in X.columns:\n",
    "    col_values = X[col].values\n",
    "    col_to_value2token[col] = {}\n",
    "    col_values_set = set(col_values)\n",
    "    for val in col_values_set:\n",
    "        if val not in col_to_value2token[col]:\n",
    "            col_to_value2token[col][val] = cnt\n",
    "            cnt += 1\n",
    "print(cnt)"
   ]
  },
  {
   "cell_type": "code",
   "execution_count": 21,
   "metadata": {},
   "outputs": [],
   "source": [
    "# replace value with token\n",
    "for col in X.columns:\n",
    "    value_to_token = col_to_value2token[col]\n",
    "    X[col] = X[col].map(value_to_token)"
   ]
  },
  {
   "cell_type": "code",
   "execution_count": 22,
   "metadata": {},
   "outputs": [],
   "source": [
    "from sklearn.model_selection import train_test_split\n",
    "\n",
    "X_train, X_tmp, Y_train, Y_tmp = train_test_split(X,Y, test_size=0.2, random_state=2024)\n",
    "X_val, X_test,Y_val, Y_test = train_test_split(X_tmp, Y_tmp, test_size=0.5, random_state=2024)"
   ]
  },
  {
   "cell_type": "code",
   "execution_count": 23,
   "metadata": {},
   "outputs": [],
   "source": [
    "# save to libsvm\n",
    "def save_dataset(X, Y, file_path:str):\n",
    "    with open(file_path, 'w', encoding='utf-8') as f:\n",
    "        n = len(X)\n",
    "        for i in range(n):\n",
    "            row = X.iloc[i].values \n",
    "            y = Y.iloc[i]\n",
    "            items =[str(y)] + [str(i)+\":1\" for i in row]\n",
    "            line = ' '.join(items) + '\\n'\n",
    "            f.write(line)"
   ]
  },
  {
   "cell_type": "code",
   "execution_count": 24,
   "metadata": {},
   "outputs": [],
   "source": [
    "train_file = '/hdd1/sams/data/hcdr/train.libsvm'\n",
    "val_file = '/hdd1/sams/data/hcdr/val.libsvm'\n",
    "test_file = '/hdd1/sams/data/hcdr/test.libsvm'\n",
    "save_dataset(X_train, Y_train, train_file)\n",
    "save_dataset(X_val, Y_val, val_file)\n",
    "save_dataset(X_test, Y_test, test_file)"
   ]
  },
  {
   "cell_type": "code",
   "execution_count": 27,
   "metadata": {},
   "outputs": [
    {
     "name": "stdout",
     "output_type": "stream",
     "text": [
      "train: POS/ALL -> 15246/195424\n",
      "val: POS/ALL -> 1913/24428\n",
      "test: POS/ALL -> 1873/24428\n",
      "columns:69\n"
     ]
    }
   ],
   "source": [
    "print(f\"train: POS/ALL -> {sum(Y_train.values.reshape(-1))}/{len(Y_train)}\")\n",
    "print(f\"val: POS/ALL -> {sum(Y_val.values.reshape(-1))}/{len(Y_val)}\")\n",
    "print(f\"test: POS/ALL -> {sum(Y_test.values.reshape(-1))}/{len(Y_test)}\")\n",
    "print(f\"columns:{len(X_train.columns)}\")"
   ]
  },
  {
   "cell_type": "code",
   "execution_count": 26,
   "metadata": {},
   "outputs": [
    {
     "name": "stdout",
     "output_type": "stream",
     "text": [
      "244280\n"
     ]
    }
   ],
   "source": [
    "print(len(df))"
   ]
  },
  {
   "cell_type": "code",
   "execution_count": null,
   "metadata": {},
   "outputs": [],
   "source": []
  }
 ],
 "metadata": {
  "kernelspec": {
   "display_name": "base",
   "language": "python",
   "name": "python3"
  },
  "language_info": {
   "codemirror_mode": {
    "name": "ipython",
    "version": 3
   },
   "file_extension": ".py",
   "mimetype": "text/x-python",
   "name": "python",
   "nbconvert_exporter": "python",
   "pygments_lexer": "ipython3",
   "version": "3.9.12"
  }
 },
 "nbformat": 4,
 "nbformat_minor": 2
}
